{
 "cells": [
  {
   "cell_type": "markdown",
   "id": "a3edb0e6",
   "metadata": {},
   "source": [
    "# Machine Learning"
   ]
  },
  {
   "cell_type": "markdown",
   "id": "e1548a9f",
   "metadata": {},
   "source": [
    "- Primero importamos la data en un dataframe para poder trabajar con ellos en los modelos de Machine Learning.\n",
    "- Acontinuación genero las mascaras para enfocarme en la región de la imagen en la cual estoy interesado.\n",
    "- Importa la librería rgbhistogram para utilizar la representación de intensidad de pixeles en la región de interes\n",
    "- Separo la data en 0.75 entrenamiento y 0.25 para test\n",
    "- Se procede a evaluar la data en diferentes modelos de Machine Learning y determinar cual da mejor resultado"
   ]
  },
  {
   "cell_type": "code",
   "execution_count": 1,
   "id": "ea629794",
   "metadata": {},
   "outputs": [],
   "source": [
    "#Importando las librerías\n",
    "from sklearn.metrics import classification_report\n",
    "from sklearn.model_selection import train_test_split\n",
    "from sklearn.ensemble import RandomForestClassifier\n",
    "from sklearn.linear_model import LogisticRegression\n",
    "from sklearn.neighbors import KNeighborsClassifier\n",
    "from sklearn.tree import DecisionTreeClassifier\n",
    "from sklearn.linear_model import SGDClassifier\n",
    "import rgbhistogram\n",
    "from PIL import Image\n",
    "from rembg import remove\n",
    "from sklearn import metrics\n",
    "import numpy as np\n",
    "import pandas as pd\n",
    "import os\n",
    "import cv2"
   ]
  },
  {
   "cell_type": "code",
   "execution_count": 2,
   "id": "6377c000",
   "metadata": {},
   "outputs": [],
   "source": [
    "#Cargando la data\n",
    "train_data = pd.read_csv(\"train.csv\", thousands=',')"
   ]
  },
  {
   "cell_type": "code",
   "execution_count": 3,
   "id": "b9051b96",
   "metadata": {},
   "outputs": [
    {
     "data": {
      "text/html": [
       "<div>\n",
       "<style scoped>\n",
       "    .dataframe tbody tr th:only-of-type {\n",
       "        vertical-align: middle;\n",
       "    }\n",
       "\n",
       "    .dataframe tbody tr th {\n",
       "        vertical-align: top;\n",
       "    }\n",
       "\n",
       "    .dataframe thead th {\n",
       "        text-align: right;\n",
       "    }\n",
       "</style>\n",
       "<table border=\"1\" class=\"dataframe\">\n",
       "  <thead>\n",
       "    <tr style=\"text-align: right;\">\n",
       "      <th></th>\n",
       "      <th>image_id</th>\n",
       "      <th>healthy</th>\n",
       "      <th>multiple_diseases</th>\n",
       "      <th>rust</th>\n",
       "      <th>scab</th>\n",
       "    </tr>\n",
       "  </thead>\n",
       "  <tbody>\n",
       "    <tr>\n",
       "      <th>0</th>\n",
       "      <td>Train_0</td>\n",
       "      <td>0</td>\n",
       "      <td>0</td>\n",
       "      <td>0</td>\n",
       "      <td>1</td>\n",
       "    </tr>\n",
       "    <tr>\n",
       "      <th>1</th>\n",
       "      <td>Train_1</td>\n",
       "      <td>0</td>\n",
       "      <td>1</td>\n",
       "      <td>0</td>\n",
       "      <td>0</td>\n",
       "    </tr>\n",
       "    <tr>\n",
       "      <th>2</th>\n",
       "      <td>Train_2</td>\n",
       "      <td>1</td>\n",
       "      <td>0</td>\n",
       "      <td>0</td>\n",
       "      <td>0</td>\n",
       "    </tr>\n",
       "    <tr>\n",
       "      <th>3</th>\n",
       "      <td>Train_3</td>\n",
       "      <td>0</td>\n",
       "      <td>0</td>\n",
       "      <td>1</td>\n",
       "      <td>0</td>\n",
       "    </tr>\n",
       "    <tr>\n",
       "      <th>4</th>\n",
       "      <td>Train_4</td>\n",
       "      <td>1</td>\n",
       "      <td>0</td>\n",
       "      <td>0</td>\n",
       "      <td>0</td>\n",
       "    </tr>\n",
       "  </tbody>\n",
       "</table>\n",
       "</div>"
      ],
      "text/plain": [
       "  image_id  healthy  multiple_diseases  rust  scab\n",
       "0  Train_0        0                  0     0     1\n",
       "1  Train_1        0                  1     0     0\n",
       "2  Train_2        1                  0     0     0\n",
       "3  Train_3        0                  0     1     0\n",
       "4  Train_4        1                  0     0     0"
      ]
     },
     "execution_count": 3,
     "metadata": {},
     "output_type": "execute_result"
    }
   ],
   "source": [
    "#Imprimiendo los primeros cinco registros de train\n",
    "train_data.head()"
   ]
  },
  {
   "cell_type": "code",
   "execution_count": 4,
   "id": "0cc6eb59",
   "metadata": {},
   "outputs": [
    {
     "data": {
      "text/plain": [
       "1821"
      ]
     },
     "execution_count": 4,
     "metadata": {},
     "output_type": "execute_result"
    }
   ],
   "source": [
    "#Imprimiendo el número de registros en train\n",
    "len(train_data)"
   ]
  },
  {
   "cell_type": "code",
   "execution_count": 5,
   "id": "cbf82015",
   "metadata": {},
   "outputs": [],
   "source": [
    "#Generación de máscaras\n",
    "n = len(train_data)\n",
    "for i in range(0,n):\n",
    "    img = Image.open(os.path.join(\"images\",train_data[\"image_id\"][i]+\".jpg\"))\n",
    "    output = remove(img)\n",
    "    (T, thresh) = cv2.threshold(np.array(output), 10, 255, cv2.THRESH_BINARY)\n",
    "    gray_thresh = cv2.cvtColor(thresh, cv2.COLOR_BGR2GRAY)\n",
    "    cv2.imwrite(os.path.join(\"mask\",\"mask_\"+train_data[\"image_id\"][i]+\".png\"),gray_thresh)"
   ]
  },
  {
   "cell_type": "code",
   "execution_count": 6,
   "id": "adace157",
   "metadata": {},
   "outputs": [],
   "source": [
    "#Guardando en listas imagenes y mascaras \n",
    "imagePaths = []\n",
    "maskPaths = []\n",
    "n = len(train_data)\n",
    "for i in range(0, n):\n",
    "    imagePaths.append(\"train\\\\\" + train_data[\"image_id\"][i] + \".jpg\")\n",
    "    maskPaths.append(\"mask\\\\mask_\" + train_data[\"image_id\"][i] + \".png\")"
   ]
  },
  {
   "cell_type": "code",
   "execution_count": 7,
   "id": "f5afc9e1",
   "metadata": {},
   "outputs": [],
   "source": [
    "#Usando histograma RGB para caracterizar los colores\n",
    "desc = rgbhistogram.RGBHistogram([8, 8, 8])\n",
    "data_desc = []\n",
    "target = []\n",
    "i = 0\n",
    "for (imagePath, maskPath) in zip(imagePaths, maskPaths):\n",
    "    image = cv2.imread(imagePath)\n",
    "    mask = cv2.imread(maskPath)\n",
    "    mask = cv2.cvtColor(mask, cv2.COLOR_BGR2GRAY)\n",
    "    features = desc.describe(image, mask)\n",
    "    data_desc.append(features)\n",
    "    target.append(list(train_data.drop(columns=\"image_id\").iloc[i]))\n",
    "    i = i +1"
   ]
  },
  {
   "cell_type": "code",
   "execution_count": 8,
   "id": "e70d57c2",
   "metadata": {},
   "outputs": [],
   "source": [
    "#Creando lista de target con nombres únicos \n",
    "targetNames = np.unique(list(train_data.drop(columns=\"image_id\")))"
   ]
  },
  {
   "cell_type": "code",
   "execution_count": 9,
   "id": "ab919038",
   "metadata": {},
   "outputs": [
    {
     "data": {
      "text/plain": [
       "array(['healthy', 'multiple_diseases', 'rust', 'scab'], dtype='<U17')"
      ]
     },
     "execution_count": 9,
     "metadata": {},
     "output_type": "execute_result"
    }
   ],
   "source": [
    "targetNames"
   ]
  },
  {
   "cell_type": "code",
   "execution_count": 10,
   "id": "d5074846",
   "metadata": {},
   "outputs": [],
   "source": [
    "#Separación de datos: 0.75 para entrenamiento y 0.25 para test\n",
    "(trainData, testData, trainTarget, testTarget) = train_test_split(data_desc, target, test_size = 0.25, random_state = 42)"
   ]
  },
  {
   "cell_type": "markdown",
   "id": "34bbbae9",
   "metadata": {},
   "source": [
    "CLASIFICADOR RANDOM FOREST "
   ]
  },
  {
   "cell_type": "code",
   "execution_count": 11,
   "id": "dedfa914",
   "metadata": {},
   "outputs": [
    {
     "name": "stdout",
     "output_type": "stream",
     "text": [
      "                   precision    recall  f1-score   support\n",
      "\n",
      "          healthy       0.78      0.76      0.77       126\n",
      "multiple_diseases       1.00      0.05      0.09        22\n",
      "             rust       0.96      0.87      0.91       155\n",
      "             scab       0.84      0.73      0.78       153\n",
      "\n",
      "        micro avg       0.86      0.75      0.80       456\n",
      "        macro avg       0.89      0.60      0.64       456\n",
      "     weighted avg       0.87      0.75      0.79       456\n",
      "      samples avg       0.75      0.75      0.75       456\n",
      "\n"
     ]
    },
    {
     "name": "stderr",
     "output_type": "stream",
     "text": [
      "C:\\Users\\Franz\\AppData\\Roaming\\Python\\Python39\\site-packages\\sklearn\\metrics\\_classification.py:1248: UndefinedMetricWarning: Precision and F-score are ill-defined and being set to 0.0 in samples with no predicted labels. Use `zero_division` parameter to control this behavior.\n",
      "  _warn_prf(average, modifier, msg_start, len(result))\n"
     ]
    }
   ],
   "source": [
    "model_RF = RandomForestClassifier(n_estimators = 25, random_state = 84)\n",
    "    \n",
    "model_RF.fit(trainData, trainTarget)\n",
    "    \n",
    "print(classification_report(testTarget, model_RF.predict(testData), target_names = targetNames))"
   ]
  },
  {
   "cell_type": "code",
   "execution_count": 12,
   "id": "08848598",
   "metadata": {},
   "outputs": [
    {
     "name": "stdout",
     "output_type": "stream",
     "text": [
      "Error medio cuadrado\n",
      "0.09155701754385964\n"
     ]
    }
   ],
   "source": [
    "print(\"Error medio cuadrado\")\n",
    "print(metrics.mean_squared_error(testTarget,model_RF.predict(testData)))"
   ]
  },
  {
   "cell_type": "markdown",
   "id": "8afdfb5b",
   "metadata": {},
   "source": [
    "CLASIFICADOR DE K VECINOS MÁS CERCANOS"
   ]
  },
  {
   "cell_type": "code",
   "execution_count": 13,
   "id": "cda88c79",
   "metadata": {},
   "outputs": [
    {
     "name": "stdout",
     "output_type": "stream",
     "text": [
      "Presición de vecinos más cercanos\n",
      "0.45394736842105265\n",
      "Error medio cuadrado\n",
      "0.23081140350877194\n"
     ]
    },
    {
     "name": "stderr",
     "output_type": "stream",
     "text": [
      "C:\\Users\\Franz\\AppData\\Roaming\\Python\\Python39\\site-packages\\sklearn\\neighbors\\_classification.py:211: FutureWarning: Unlike other reduction functions (e.g. `skew`, `kurtosis`), the default behavior of `mode` typically preserves the axis it acts along. In SciPy 1.11.0, this behavior will change: the default value of `keepdims` will become False, the `axis` over which the statistic is taken will be eliminated, and the value None will no longer be accepted. Set `keepdims` to True or False to avoid this warning.\n",
      "  mode, _ = stats.mode(_y[neigh_ind, k], axis=1)\n",
      "C:\\Users\\Franz\\AppData\\Roaming\\Python\\Python39\\site-packages\\sklearn\\neighbors\\_classification.py:211: FutureWarning: Unlike other reduction functions (e.g. `skew`, `kurtosis`), the default behavior of `mode` typically preserves the axis it acts along. In SciPy 1.11.0, this behavior will change: the default value of `keepdims` will become False, the `axis` over which the statistic is taken will be eliminated, and the value None will no longer be accepted. Set `keepdims` to True or False to avoid this warning.\n",
      "  mode, _ = stats.mode(_y[neigh_ind, k], axis=1)\n"
     ]
    }
   ],
   "source": [
    "#Usando el clasificador de K vecinos más cercano\n",
    "knn=KNeighborsClassifier(n_neighbors=3)\n",
    "knn.fit(trainData, trainTarget)\n",
    "Y_pred_kk = knn.predict(testData)\n",
    "print(\"Presición de vecinos más cercanos\")\n",
    "print(knn.score(testData,testTarget))\n",
    "print(\"Error medio cuadrado\")\n",
    "print(metrics.mean_squared_error(testTarget,Y_pred_kk))"
   ]
  },
  {
   "cell_type": "markdown",
   "id": "41b62f13",
   "metadata": {},
   "source": [
    "CLASIFICADOR DE ÁRBOLES DE DESICIÓN"
   ]
  },
  {
   "cell_type": "code",
   "execution_count": 14,
   "id": "a59ad877",
   "metadata": {},
   "outputs": [
    {
     "name": "stdout",
     "output_type": "stream",
     "text": [
      "Presición de SGD\n",
      "0.7214912280701754\n",
      "Error medio cuadrado\n",
      "0.1304824561403509\n"
     ]
    }
   ],
   "source": [
    "#Usando el clasificador árboles de desición\n",
    "tree=DecisionTreeClassifier(max_depth=5)\n",
    "tree.fit(trainData, trainTarget)\n",
    "Y_pred_three = tree.predict(testData)\n",
    "print(\"Presición de SGD\")\n",
    "print(tree.score(testData,testTarget))\n",
    "print(\"Error medio cuadrado\")\n",
    "print(metrics.mean_squared_error(testTarget,Y_pred_three))"
   ]
  },
  {
   "cell_type": "markdown",
   "id": "1d13d72d",
   "metadata": {},
   "source": [
    "# Conclusión"
   ]
  },
  {
   "cell_type": "markdown",
   "id": "3baf2db4",
   "metadata": {},
   "source": [
    "El clasificador Random Forest nos da una mejor presición en la predicción, micro-average de 0.86."
   ]
  }
 ],
 "metadata": {
  "kernelspec": {
   "display_name": "Python 3 (ipykernel)",
   "language": "python",
   "name": "python3"
  },
  "language_info": {
   "codemirror_mode": {
    "name": "ipython",
    "version": 3
   },
   "file_extension": ".py",
   "mimetype": "text/x-python",
   "name": "python",
   "nbconvert_exporter": "python",
   "pygments_lexer": "ipython3",
   "version": "3.9.6"
  }
 },
 "nbformat": 4,
 "nbformat_minor": 5
}
